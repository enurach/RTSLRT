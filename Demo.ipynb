{
 "cells": [
  {
   "cell_type": "markdown",
   "id": "3d478ed9",
   "metadata": {},
   "source": [
    "***IMPORTS***"
   ]
  },
  {
   "cell_type": "code",
   "execution_count": 80,
   "id": "26d803e5",
   "metadata": {},
   "outputs": [],
   "source": [
    "import csv\n",
    "import os\n",
    "import cv2\n",
    "import copy\n",
    "import random\n",
    "import itertools\n",
    "\n",
    "import pandas as pd\n",
    "import numpy as np\n",
    "import tensorflow as tf\n",
    "import mediapipe as mp\n",
    "from sklearn.model_selection import train_test_split\n",
    "from utils import *\n",
    "\n",
    "import torch\n",
    "import torch.nn as nn\n",
    "from torch import optim\n",
    "from torch.optim.lr_scheduler import StepLR\n",
    "from torch.utils.data import Dataset, DataLoader, random_split\n",
    "\n",
    "from sklearn.metrics import confusion_matrix\n",
    "import matplotlib.pyplot as plt\n",
    "import seaborn as sns\n",
    "\n",
    "\n",
    "from tqdm import tqdm\n",
    "\n",
    "RANDOM_SEED = 42"
   ]
  },
  {
   "cell_type": "code",
   "execution_count": 81,
   "id": "4602d74b",
   "metadata": {},
   "outputs": [],
   "source": [
    "from dataset.builder import *\n",
    "from model.buider import *"
   ]
  },
  {
   "cell_type": "code",
   "execution_count": 136,
   "id": "a77f94ad",
   "metadata": {},
   "outputs": [],
   "source": [
    "from sklearn.preprocessing import LabelEncoder\n",
    "from sklearn.metrics import accuracy_score, precision_score, recall_score, f1_score"
   ]
  },
  {
   "cell_type": "code",
   "execution_count": 93,
   "id": "b8474518",
   "metadata": {},
   "outputs": [],
   "source": [
    "import warnings\n",
    "\n",
    "# Ignore all warnings\n",
    "warnings.filterwarnings(\"ignore\")"
   ]
  },
  {
   "cell_type": "markdown",
   "id": "de02af67",
   "metadata": {},
   "source": [
    "***encoder+decoder***"
   ]
  },
  {
   "cell_type": "code",
   "execution_count": 115,
   "id": "15fc2014",
   "metadata": {},
   "outputs": [],
   "source": [
    "decoder_classess = np.load('./data/encodeers/decode_final.npy', allow_pickle=True)"
   ]
  },
  {
   "cell_type": "code",
   "execution_count": 116,
   "id": "a788dec4",
   "metadata": {},
   "outputs": [],
   "source": [
    "label_encoder = LabelEncoder()"
   ]
  },
  {
   "cell_type": "code",
   "execution_count": 117,
   "id": "4ae5354b",
   "metadata": {},
   "outputs": [],
   "source": [
    "label_encoder.classes_ = decoder_classess"
   ]
  },
  {
   "cell_type": "code",
   "execution_count": 129,
   "id": "7e8c7eb3",
   "metadata": {},
   "outputs": [
    {
     "data": {
      "text/plain": [
       "array(['Жарить', 'З', 'Золото', 'Л', 'Лицо', 'Н', 'Привет!', 'Религия',\n",
       "       'Ц', 'Ы', 'Ю', 'аккуратный', 'активный', 'амбициозный', 'банкет',\n",
       "       'бежевый', 'без', 'беспокойство', 'благополучие', 'близко',\n",
       "       'важный', 'ваш', 'вверх', 'вдохновлять', 'верблюд', 'вечер',\n",
       "       'вечность', 'взять', 'вилка', 'вина', 'вкус', 'воздух',\n",
       "       'встретить', 'вторник', 'глаз', 'глупый', 'ежик', 'жевать',\n",
       "       'испуг', 'курица', 'лось', 'мальчик', 'мудрый', 'мышь', 'ночь',\n",
       "       'овца', 'официант', 'панда', 'петух', 'собака', 'тебе'],\n",
       "      dtype=object)"
      ]
     },
     "execution_count": 129,
     "metadata": {},
     "output_type": "execute_result"
    }
   ],
   "source": [
    "decoder_classess"
   ]
  },
  {
   "cell_type": "markdown",
   "id": "2d1e3d55",
   "metadata": {},
   "source": [
    "***MODEL***"
   ]
  },
  {
   "cell_type": "code",
   "execution_count": 87,
   "id": "7a0e3e2e",
   "metadata": {},
   "outputs": [],
   "source": [
    "# Example of model in model.model.py\n",
    "# accessed by build_model from model.builder.py\n",
    "\n",
    "class SLDence(nn.Module):\n",
    "    def __init__(self, input_size, num_classes):\n",
    "        super(SLDence, self).__init__()\n",
    "        self.fc1 = nn.Linear(input_size, 256)\n",
    "        self.dropout = nn.Dropout(0.3)\n",
    "        self.fc2 = nn.Linear(256, 128)\n",
    "        self.fc3 = nn.Linear(128, num_classes)\n",
    "\n",
    "    def forward(self, x):\n",
    "        x = torch.relu(self.fc1(x))\n",
    "        #x = self.dropout(x)\n",
    "        x = torch.relu(self.fc2(x))\n",
    "        x = self.fc3(x)\n",
    "        return x\n"
   ]
  },
  {
   "cell_type": "code",
   "execution_count": 122,
   "id": "0c9c08ed",
   "metadata": {},
   "outputs": [],
   "source": [
    "input_size = 65 * 2 # 84\n",
    "num_classes = 51\n",
    "model = SLDence(input_size, num_classes)\n",
    "num_epochs = 20\n",
    "\n",
    "criterion = nn.CrossEntropyLoss()\n",
    "optimizer = optim.Adam(model.parameters(), lr=0.01)\n",
    "scheduler = StepLR(optimizer, step_size=10, gamma=0.1)"
   ]
  },
  {
   "cell_type": "code",
   "execution_count": 123,
   "id": "17b66c69",
   "metadata": {},
   "outputs": [
    {
     "data": {
      "text/plain": [
       "LandmarkFCN(\n",
       "  (fc1): Linear(in_features=130, out_features=256, bias=True)\n",
       "  (dropout): Dropout(p=0.3, inplace=False)\n",
       "  (fc2): Linear(in_features=256, out_features=128, bias=True)\n",
       "  (fc3): Linear(in_features=128, out_features=51, bias=True)\n",
       ")"
      ]
     },
     "execution_count": 123,
     "metadata": {},
     "output_type": "execute_result"
    }
   ],
   "source": [
    "model.load_state_dict(torch.load('./model/last_run/model_20.pth'))\n",
    "model.to('cuda')"
   ]
  },
  {
   "cell_type": "markdown",
   "id": "acc938e4",
   "metadata": {},
   "source": [
    "***MEDIAPIPE***"
   ]
  },
  {
   "cell_type": "code",
   "execution_count": 124,
   "id": "28cb492c",
   "metadata": {},
   "outputs": [
    {
     "name": "stderr",
     "output_type": "stream",
     "text": [
      "I0000 00:00:1715629829.291950   23423 gl_context_egl.cc:85] Successfully initialized EGL. Major : 1 Minor: 5\n",
      "I0000 00:00:1715629829.292883   76127 gl_context.cc:357] GL version: 3.2 (OpenGL ES 3.2 Mesa 24.0.2-manjaro1.1), renderer: Mesa Intel(R) UHD Graphics 630 (CFL GT2)\n"
     ]
    }
   ],
   "source": [
    "mp_holistic = mp.solutions.holistic\n",
    "mp_drawing = mp.solutions.drawing_utils\n",
    "holistic = mp_holistic.Holistic(min_detection_confidence=0.5, min_tracking_confidence=0.5, static_image_mode=True)"
   ]
  },
  {
   "cell_type": "code",
   "execution_count": 91,
   "id": "8a9f8dd3",
   "metadata": {},
   "outputs": [],
   "source": [
    "# Predicting landmarks and drawing \n",
    "def detect_landmarks(frame):\n",
    "    frame_rgb = cv2.cvtColor(frame, cv2.COLOR_BGR2RGB)\n",
    "    results = holistic.process(frame_rgb)\n",
    "    \n",
    "    \n",
    "    \n",
    "    \n",
    "    # Right hand\n",
    "    mp_drawing.draw_landmarks(frame, results.right_hand_landmarks, mp_holistic.HAND_CONNECTIONS, \n",
    "                             mp_drawing.DrawingSpec(color=(80,22,10), thickness=2, circle_radius=4),\n",
    "                             mp_drawing.DrawingSpec(color=(80,44,121), thickness=2, circle_radius=2)\n",
    "                             )\n",
    "\n",
    "    # Left Hand\n",
    "    mp_drawing.draw_landmarks(frame, results.left_hand_landmarks, mp_holistic.HAND_CONNECTIONS, \n",
    "                             mp_drawing.DrawingSpec(color=(121,22,76), thickness=2, circle_radius=4),\n",
    "                             mp_drawing.DrawingSpec(color=(121,44,250), thickness=2, circle_radius=2)\n",
    "                             )\n",
    "\n",
    "    # Pose Detections\n",
    "    mp_drawing.draw_landmarks(frame, results.pose_landmarks, mp_holistic.POSE_CONNECTIONS, \n",
    "                             mp_drawing.DrawingSpec(color=(245,117,66), thickness=2, circle_radius=4),\n",
    "                             mp_drawing.DrawingSpec(color=(245,66,230), thickness=2, circle_radius=2)\n",
    "                             )\n",
    "    \n",
    "    \n",
    "\n",
    "\n",
    "    return frame, results\n"
   ]
  },
  {
   "cell_type": "code",
   "execution_count": 92,
   "id": "ae2e5d91",
   "metadata": {},
   "outputs": [],
   "source": [
    "# Normalization and preprocessing done in dataset\n",
    "def transform(results):\n",
    "    \n",
    "    left_hand_pos = results.left_hand_landmarks\n",
    "    right_hand_pos = results.right_hand_landmarks\n",
    "    body_pos = results.pose_landmarks\n",
    "    \n",
    "    fill_value = 0.\n",
    "    \n",
    "    num_hand_landmarks = 21\n",
    "    num_body_landmarks = 23\n",
    "    num_dimensions = 2\n",
    "    \n",
    "    image_width, image_height = 512, 512\n",
    "    landmark_list = []\n",
    "    \n",
    "    # Getting body keypoints:\n",
    "    if body_pos is not None:\n",
    "        body_pos = body_pos.landmark\n",
    "        body_pos = np.array([[body_pos[indx].x, body_pos[indx].y] for indx in range(num_body_landmarks)])\n",
    "    \n",
    "    \n",
    "    # Making landmarks in array of shape (21, 2) \n",
    "    if left_hand_pos is not None:\n",
    "        left_hand_pos = np.array([[landmark.x, landmark.y] for landmark in left_hand_pos.landmark]) # ignore landmark z\n",
    "    if right_hand_pos is not None:\n",
    "        right_hand_pos = np.array([[landmark.x, landmark.y] for landmark in right_hand_pos.landmark]) # ignore landmark z\n",
    "                  \n",
    "\n",
    "    # Creating with filled \"fill_value\" array for placing landmarks in\n",
    "    concatenated_pos = np.full(((num_hand_landmarks * 2) + num_body_landmarks, num_dimensions), fill_value)\n",
    "    \n",
    "    if left_hand_pos is not None:\n",
    "        concatenated_pos[:num_hand_landmarks] = left_hand_pos\n",
    "\n",
    "    if right_hand_pos is not None:\n",
    "        concatenated_pos[num_hand_landmarks:(num_hand_landmarks*2)] = right_hand_pos\n",
    "        \n",
    "    concatenated_pos[(num_hand_landmarks*2):] = body_pos\n",
    "    \n",
    "    concatinated_1d = []\n",
    "    if body_pos is None:\n",
    "        base_x, base_y = concatenated_pos[0]\n",
    "    else:\n",
    "        base_x, base_y = body_pos[11]\n",
    "    for index, landmark_point in enumerate(concatenated_pos):\n",
    "        if landmark_point[0] == 0 and landmark_point[1] == 0:\n",
    "            concatinated_1d.append(0.0)\n",
    "            concatinated_1d.append(0.0)\n",
    "            continue\n",
    "\n",
    "        concatinated_1d.append(concatenated_pos[index][0] - base_x + 0.1)\n",
    "        concatinated_1d.append(concatenated_pos[index][1] - base_y + 0.1)\n",
    "\n",
    "    # Normalization\n",
    "    max_value = max(concatinated_1d)\n",
    "    \n",
    "    \n",
    "    def normalize_(n):\n",
    "        if max_value ==0:\n",
    "            return 0\n",
    "        return n / max_value\n",
    "\n",
    "    concatinated_1d = list(map(normalize_, concatinated_1d))\n",
    "    \n",
    "    return torch.tensor(concatinated_1d, dtype=torch.float32)"
   ]
  },
  {
   "cell_type": "code",
   "execution_count": 135,
   "id": "abb75704",
   "metadata": {},
   "outputs": [
    {
     "name": "stderr",
     "output_type": "stream",
     "text": [
      "[ WARN:0@32417.034] global cap_v4l.cpp:997 open VIDEOIO(V4L2:/dev/video0): can't open camera by index\n",
      "[ERROR:0@32417.035] global obsensor_uvc_stream_channel.cpp:159 getStreamChannelGroup Camera index out of range\n"
     ]
    }
   ],
   "source": [
    "# Real Time excecution\n",
    "cap = cv2.VideoCapture(0)\n",
    "\n",
    "    \n",
    "while cap.isOpened():\n",
    "    ret, frame = cap.read()\n",
    "\n",
    "    image = cv2.resize(frame, (512, 512))\n",
    "    # Make Detections\n",
    "    image, result = detect_landmarks(image)\n",
    "\n",
    "    input_data = transform(result).view(-1, 65*2).cuda() \n",
    "    with torch.no_grad():\n",
    "        output = model(input_data)\n",
    "\n",
    "    if torch.max(output) > 0.8:\n",
    "        \n",
    "        prediction = output.argmax(dim=1).item()\n",
    "        if previous != prediction:\n",
    "            previous = prediction\n",
    "        out_text = label_encoder.inverse_transform([previous])[0]\n",
    "    else:\n",
    "        out_text = ' '\n",
    "    cv2.putText(image, out_text, (50, 50), cv2.FONT_HERSHEY_COMPLEX, 1, (0, 255, 0), 2, cv2.LINE_AA)\n",
    "\n",
    "\n",
    "    cv2.imshow('Raw Webcam Feed', image)\n",
    "\n",
    "    if cv2.waitKey(10) & 0xFF == ord('q'):\n",
    "        break\n",
    "\n",
    "cap.release()\n",
    "cv2.destroyAllWindows()"
   ]
  },
  {
   "cell_type": "code",
   "execution_count": 98,
   "id": "2e5def5d",
   "metadata": {},
   "outputs": [
    {
     "name": "stderr",
     "output_type": "stream",
     "text": [
      "I0000 00:00:1715628336.958683   23423 gl_context_egl.cc:85] Successfully initialized EGL. Major : 1 Minor: 5\n",
      "I0000 00:00:1715628336.974661   75355 gl_context.cc:357] GL version: 3.2 (OpenGL ES 3.2 Mesa 24.0.2-manjaro1.1), renderer: Mesa Intel(R) UHD Graphics 630 (CFL GT2)\n"
     ]
    }
   ],
   "source": [
    "#REAL time demo\n",
    "model.eval()\n",
    "cap = cv2.VideoCapture(0)\n",
    "previous = None\n",
    "\n",
    "while cap.isOpened():\n",
    "    ret, frame = cap.read()\n",
    "    if not ret:\n",
    "        break\n",
    "    frame = cv2.resize(frame, (512, 512))\n",
    "    frame = cv2.flip(frame, 1)\n",
    "    # Detect hand landmarks in the frame\n",
    "    frame, result = detect_landmarks(frame)\n",
    "    input_data = transform(result).view(-1, 65*2).cuda() # 84*2/ \n",
    "    with torch.no_grad():\n",
    "        output = model(input_data)\n",
    "\n",
    "    if torch.max(output) > 0.8:\n",
    "        # Get the index of the class with the highest probability\n",
    "        prediction = output.argmax(dim=1).item()  # Assuming output is a tensor of class probabilities\n",
    "        if previous != prediction:\n",
    "            previous = prediction\n",
    "        out_text = label_encoder.inverse_transform([previous])[0]\n",
    "    else:\n",
    "        out_text = ' '\n",
    "    cv2.putText(frame, out_text, (50, 50), cv2.FONT_HERSHEY_COMPLEX, 1, (0, 255, 0), 2, cv2.LINE_AA)\n",
    "\n",
    "    # Display the processed frame\n",
    "    cv2.imshow('Hand Landmark Detection', frame)\n",
    "\n",
    "    if cv2.waitKey(1) & 0xFF == ord('q'):\n",
    "        break\n",
    "\n",
    "cap.release()\n",
    "cv2.destroyAllWindows()\n"
   ]
  },
  {
   "cell_type": "markdown",
   "id": "db948838",
   "metadata": {},
   "source": [
    "***Data***"
   ]
  },
  {
   "cell_type": "code",
   "execution_count": 94,
   "id": "6fcb93fa",
   "metadata": {},
   "outputs": [],
   "source": [
    "# It is example of dataset, located in dataset/handLandmarks.py and used in builder.py \n",
    "# in def build_dataset()\n",
    "\n",
    "def build_dataset(annotation, train = False):\n",
    "    dataset = HandLandmarksDataset(annotation = annotation, train=train)\n",
    "    return dataset\n",
    "\n",
    "def build_dataloader(dataset, batch_size=32):\n",
    "    dataloader = DataLoader(dataset, batch_size=32, shuffle=True)\n",
    "    return dataloader\n",
    "\n",
    "def check_dataset(dataset):\n",
    "    # Check if all train images in dataset can be detected with mediapipe:\n",
    "    # input: dataset\n",
    "    # output: nothing, show image that did not pass and it path\n",
    "    for i in tqdm(range(len(dataset))):\n",
    "        a = dataset[i]\n",
    "        pass\n",
    "\n",
    "    \n",
    "class HandLandmarksDataset(Dataset):\n",
    "    def __init__(self, annotation, train = False, num_classes = 51):\n",
    "        self.holistic = mp.solutions.holistic.Holistic(min_detection_confidence=0.5, min_tracking_confidence=0.5, static_image_mode=True)\n",
    "        self.train = train\n",
    "        self.annotation = pd.read_csv(annotation)\n",
    "        self.num_classes = num_classes\n",
    "        self.image_paths = self.annotation['attachment_id'].values\n",
    "        self.labels = self.annotation['text'].values\n",
    "        self.to_delete = []\n",
    "        \n",
    "    def __len__(self):\n",
    "        return len(self.image_paths)\n",
    "    \n",
    "    \n",
    "    \n",
    "    def concatinate_features(self, left_hand_pos, right_hand_pos, body_pos):\n",
    "        num_hand_landmarks = 21 \n",
    "        num_body_landmarks = 23\n",
    "        num_dimensions = 2 \n",
    "        fill_value=0.\n",
    "\n",
    "        concatenated_pos = np.full(((num_hand_landmarks * 2) + num_body_landmarks, num_dimensions), fill_value)\n",
    "    \n",
    "        if left_hand_pos is not None:\n",
    "            concatenated_pos[:num_hand_landmarks] = left_hand_pos\n",
    "        if right_hand_pos is not None:\n",
    "            concatenated_pos[num_hand_landmarks:(num_hand_landmarks*2)] = right_hand_pos\n",
    "        concatenated_pos[(num_hand_landmarks*2):] = body_pos\n",
    "\n",
    "        return concatenated_pos\n",
    "\n",
    "    \n",
    "    def pre_process_landmarks(self, concatenated_pos, body_pos):\n",
    "        concatinated_1d = []\n",
    "        if body_pos is None:\n",
    "            base_x, base_y = concatenated_pos[0]\n",
    "        else: \n",
    "            base_x, base_y = body_pos[11]\n",
    "        for index, landmark_point in enumerate(concatenated_pos):\n",
    "            if landmark_point[0] == 0 and landmark_point[1] == 0:\n",
    "                concatinated_1d.append(0.0)\n",
    "                concatinated_1d.append(0.0)\n",
    "                continue\n",
    "\n",
    "            concatinated_1d.append(concatenated_pos[index][0] - base_x + 0.1)\n",
    "            concatinated_1d.append(concatenated_pos[index][1] - base_y + 0.1)\n",
    "\n",
    "        # Normalization\n",
    "        max_value = max(concatinated_1d)\n",
    "\n",
    "\n",
    "        def normalize_(n):\n",
    "            if max_value ==0:\n",
    "                return 0\n",
    "            return n / max_value\n",
    "\n",
    "        concatinated_1d = list(map(normalize_, concatinated_1d))\n",
    "\n",
    "        return torch.tensor(concatinated_1d, dtype=torch.float32)\n",
    "    \n",
    "\n",
    "    def extract_landmarks(self, results):\n",
    "        left_hand_pos = results.left_hand_landmarks\n",
    "        right_hand_pos = results.right_hand_landmarks\n",
    "        body_pos = results.pose_landmarks\n",
    "        num_body_landmarks = 23\n",
    "\n",
    "        # Getting body keypoints:\n",
    "        if body_pos is not None:\n",
    "            body_pos = body_pos.landmark\n",
    "            body_pos = np.array([[body_pos[indx].x, body_pos[indx].y] for indx in range(num_body_landmarks)])\n",
    "\n",
    "\n",
    "        # Making landmarks in array of shape (21, 2) \n",
    "        if left_hand_pos is not None:\n",
    "            left_hand_pos = np.array([[landmark.x, landmark.y] for landmark in left_hand_pos.landmark]) # ignore landmark z\n",
    "        if right_hand_pos is not None:\n",
    "            right_hand_pos = np.array([[landmark.x, landmark.y] for landmark in right_hand_pos.landmark]) # ignore landmark z\n",
    "\n",
    "\n",
    "\n",
    "        return left_hand_pos, right_hand_pos, body_pos\n",
    "\n",
    "    \n",
    "    def random_flip(self, image):\n",
    "        if np.random.choice([True, False]):\n",
    "            return cv2.flip(image, 1)\n",
    "        return image\n",
    "    \n",
    "\n",
    "    def __getitem__(self, idx):\n",
    "        image_path = self.image_paths[idx]\n",
    "        label = self.labels[idx]\n",
    "        image = cv2.imread(image_path)\n",
    "        image = cv2.cvtColor(image, cv2.COLOR_BGR2RGB)\n",
    "        if self.train:\n",
    "            image = self.random_flip(image)\n",
    "        if image is None:\n",
    "            raise IOError(f\"Failed to read image: {image_path}\")\n",
    "            \n",
    "        landmarks = self.holistic.process(image)\n",
    "    \n",
    "        # ERROR image detection\n",
    "        if landmarks.pose_landmarks is None: \n",
    "            print(image_path)\n",
    "            self.to_delete.append(image_path)\n",
    "            \n",
    "        left_hand_features, right_hand_features, body_features = self.extract_landmarks(landmarks)\n",
    "        features = self.concatinate_features(left_hand_features, right_hand_features, body_features)\n",
    "        features = self.pre_process_landmarks(features, body_features)\n",
    "        \n",
    "        return torch.tensor(features, dtype=torch.float32), label"
   ]
  },
  {
   "cell_type": "code",
   "execution_count": 95,
   "id": "c4b3014d",
   "metadata": {},
   "outputs": [
    {
     "name": "stderr",
     "output_type": "stream",
     "text": [
      "I0000 00:00:1715618614.005899   23423 gl_context_egl.cc:85] Successfully initialized EGL. Major : 1 Minor: 5\n",
      "I0000 00:00:1715618614.007137   68785 gl_context.cc:357] GL version: 3.2 (OpenGL ES 3.2 Mesa 24.0.2-manjaro1.1), renderer: Mesa Intel(R) UHD Graphics 630 (CFL GT2)\n"
     ]
    }
   ],
   "source": [
    "dataset = build_dataset(annotation='./data/annotations/train_final_equaly_distributed.csv', train=True)"
   ]
  },
  {
   "cell_type": "code",
   "execution_count": 96,
   "id": "a776ee18",
   "metadata": {},
   "outputs": [],
   "source": [
    "# Train test(val) seperation\n",
    "train_ratio = 0.8\n",
    "\n",
    "num_samples = len(dataset)\n",
    "num_train_samples = int(train_ratio * num_samples)\n",
    "num_test_samples = num_samples - num_train_samples\n",
    "\n",
    "train_dataset, test_dataset = random_split(dataset, [num_train_samples, num_test_samples])\n",
    "\n",
    "train_dataloader = DataLoader(train_dataset, batch_size=32, shuffle=True)\n",
    "test_dataloader = DataLoader(test_dataset, batch_size=32, shuffle=False)"
   ]
  },
  {
   "cell_type": "markdown",
   "id": "f823de92",
   "metadata": {},
   "source": [
    "***Training + Validating***"
   ]
  },
  {
   "cell_type": "code",
   "execution_count": 97,
   "id": "11572f09",
   "metadata": {},
   "outputs": [
    {
     "name": "stdout",
     "output_type": "stream",
     "text": [
      "/home/emasle/code/SignLanguageMediapipe/data/train_frames/3cd6e89f-4672-417e-b897-29c30d603b05.mp4/0038.jpg\n",
      "Epoch 1, Loss: 2.587, Accuracy: 24.27%\n",
      "Epoch 2, Loss: 1.678, Accuracy: 47.20%\n",
      "/home/emasle/code/SignLanguageMediapipe/data/train_frames/e139e577-84dc-4c25-a801-2482ae02d755.mp4/0042.jpg\n",
      "Epoch 3, Loss: 1.335, Accuracy: 57.89%\n",
      "/home/emasle/code/SignLanguageMediapipe/data/train_frames/3cd6e89f-4672-417e-b897-29c30d603b05.mp4/0038.jpg\n",
      "Epoch 4, Loss: 1.131, Accuracy: 64.25%\n",
      "/home/emasle/code/SignLanguageMediapipe/data/train_frames/3cd6e89f-4672-417e-b897-29c30d603b05.mp4/0038.jpg\n",
      "/home/emasle/code/SignLanguageMediapipe/data/train_frames/7d9083d6-42fd-47ba-a3b8-88f7806fd2c3.mp4/0024.jpg\n",
      "Vall Loss: 1.182, Accuracy: 71.04%\n",
      "Epoch 5, Loss: 1.001, Accuracy: 68.81%\n",
      "/home/emasle/code/SignLanguageMediapipe/data/train_frames/e139e577-84dc-4c25-a801-2482ae02d755.mp4/0042.jpg\n",
      "Epoch 6, Loss: 0.887, Accuracy: 72.58%\n",
      "/home/emasle/code/SignLanguageMediapipe/data/train_frames/e139e577-84dc-4c25-a801-2482ae02d755.mp4/0042.jpg\n",
      "Epoch 7, Loss: 0.801, Accuracy: 74.52%\n",
      "/home/emasle/code/SignLanguageMediapipe/data/train_frames/3cd6e89f-4672-417e-b897-29c30d603b05.mp4/0038.jpg\n",
      "Epoch 8, Loss: 0.680, Accuracy: 78.79%\n",
      "/home/emasle/code/SignLanguageMediapipe/data/train_frames/3cd6e89f-4672-417e-b897-29c30d603b05.mp4/0038.jpg\n",
      "Epoch 9, Loss: 0.757, Accuracy: 77.32%\n",
      "/home/emasle/code/SignLanguageMediapipe/data/train_frames/7d9083d6-42fd-47ba-a3b8-88f7806fd2c3.mp4/0024.jpg\n",
      "Vall Loss: 0.786, Accuracy: 77.91%\n",
      "Epoch 10, Loss: 0.660, Accuracy: 80.33%\n",
      "/home/emasle/code/SignLanguageMediapipe/data/train_frames/e139e577-84dc-4c25-a801-2482ae02d755.mp4/0042.jpg\n",
      "Epoch 11, Loss: 0.449, Accuracy: 87.72%\n",
      "/home/emasle/code/SignLanguageMediapipe/data/train_frames/e139e577-84dc-4c25-a801-2482ae02d755.mp4/0042.jpg\n",
      "Epoch 12, Loss: 0.343, Accuracy: 89.88%\n",
      "/home/emasle/code/SignLanguageMediapipe/data/train_frames/3cd6e89f-4672-417e-b897-29c30d603b05.mp4/0038.jpg\n",
      "Epoch 13, Loss: 0.316, Accuracy: 91.34%\n",
      "/home/emasle/code/SignLanguageMediapipe/data/train_frames/3cd6e89f-4672-417e-b897-29c30d603b05.mp4/0038.jpg\n",
      "/home/emasle/code/SignLanguageMediapipe/data/train_frames/e139e577-84dc-4c25-a801-2482ae02d755.mp4/0042.jpg\n",
      "Epoch 14, Loss: 0.285, Accuracy: 91.54%\n",
      "/home/emasle/code/SignLanguageMediapipe/data/train_frames/3cd6e89f-4672-417e-b897-29c30d603b05.mp4/0038.jpg\n",
      "/home/emasle/code/SignLanguageMediapipe/data/train_frames/e139e577-84dc-4c25-a801-2482ae02d755.mp4/0042.jpg\n",
      "/home/emasle/code/SignLanguageMediapipe/data/train_frames/9e1073d1-5974-4150-8d22-25a297f26f32.mp4/0007.jpg\n",
      "Vall Loss: 0.384, Accuracy: 89.65%\n",
      "Epoch 15, Loss: 0.278, Accuracy: 92.07%\n",
      "/home/emasle/code/SignLanguageMediapipe/data/train_frames/e139e577-84dc-4c25-a801-2482ae02d755.mp4/0042.jpg\n",
      "/home/emasle/code/SignLanguageMediapipe/data/train_frames/3cd6e89f-4672-417e-b897-29c30d603b05.mp4/0038.jpg\n",
      "Epoch 16, Loss: 0.259, Accuracy: 92.63%\n",
      "/home/emasle/code/SignLanguageMediapipe/data/train_frames/e139e577-84dc-4c25-a801-2482ae02d755.mp4/0042.jpg\n",
      "Epoch 17, Loss: 0.246, Accuracy: 93.24%\n",
      "/home/emasle/code/SignLanguageMediapipe/data/train_frames/3cd6e89f-4672-417e-b897-29c30d603b05.mp4/0038.jpg\n",
      "Epoch 18, Loss: 0.233, Accuracy: 93.77%\n",
      "/home/emasle/code/SignLanguageMediapipe/data/train_frames/e139e577-84dc-4c25-a801-2482ae02d755.mp4/0042.jpg\n",
      "Epoch 19, Loss: 0.223, Accuracy: 93.73%\n",
      "/home/emasle/code/SignLanguageMediapipe/data/train_frames/e139e577-84dc-4c25-a801-2482ae02d755.mp4/0042.jpg\n",
      "/home/emasle/code/SignLanguageMediapipe/data/train_frames/7d9083d6-42fd-47ba-a3b8-88f7806fd2c3.mp4/0024.jpg\n",
      "/home/emasle/code/SignLanguageMediapipe/data/train_frames/9e1073d1-5974-4150-8d22-25a297f26f32.mp4/0007.jpg\n",
      "Vall Loss: 0.389, Accuracy: 91.17%\n",
      "Epoch 20, Loss: 0.216, Accuracy: 93.64%\n",
      "Training finished!\n"
     ]
    }
   ],
   "source": [
    "for epoch in range(num_epochs):\n",
    "    model.train()  # Set the model to training mode\n",
    "    running_loss = 0.0\n",
    "    correct = 0\n",
    "    total = 0\n",
    "    for batch in train_dataloader:\n",
    "        landmarks, labels = batch  # Assuming batch contains landmarks tensor and corresponding labels\n",
    "        landmarks = landmarks.view(-1, input_size)  # Flatten the landmarks tensor if necessary\n",
    "        \n",
    "        landmarks, labels = landmarks.to('cuda'), labels.to('cuda')\n",
    "        # Zero the parameter gradients\n",
    "        optimizer.zero_grad()\n",
    "\n",
    "        # Forward pass\n",
    "        outputs = model(landmarks)\n",
    "        loss = criterion(outputs, labels)\n",
    "        \n",
    "        # Backward pass and optimize\n",
    "        loss.backward()\n",
    "        optimizer.step()\n",
    "\n",
    "        # Print statistics\n",
    "        running_loss += loss.item()\n",
    "        \n",
    "        _, predicted = torch.max(outputs.data, 1)\n",
    "        total += labels.size(0)\n",
    "        correct += (predicted == labels).sum().item()\n",
    "    \n",
    "    if (epoch+1)%5==0:\n",
    "        model.eval()  # Set the model to evaluation mode\n",
    "        val_running_loss = 0.0\n",
    "        val_correct = 0\n",
    "        val_total = 0\n",
    "\n",
    "        with torch.no_grad():\n",
    "            for val_batch in test_dataloader:\n",
    "                val_landmarks, val_labels = val_batch  # Assuming batch contains landmarks tensor and corresponding labels\n",
    "                val_landmarks = val_landmarks.view(-1, input_size)  # Flatten the landmarks tensor if necessary\n",
    "\n",
    "                val_landmarks, val_labels = val_landmarks.to('cuda'), val_labels.to('cuda')\n",
    "\n",
    "                # Forward pass\n",
    "                val_outputs = model(val_landmarks)\n",
    "                val_loss = criterion(val_outputs, val_labels)\n",
    "\n",
    "                # Update validation statistics\n",
    "                val_running_loss += val_loss.item()\n",
    "                _, val_predicted = torch.max(val_outputs.data, 1)\n",
    "                val_total += val_labels.size(0)\n",
    "                val_correct += (val_predicted == val_labels).sum().item()\n",
    "\n",
    "        # Calculate validation loss and accuracy\n",
    "        val_loss = val_running_loss / len(test_dataloader)\n",
    "        val_accuracy = 100 * val_correct / val_total\n",
    "        print(f\"Vall Loss: {val_loss:.3f}, Accuracy: {val_accuracy:.2f}%\")\n",
    "        torch.save(model.state_dict(), f'model/last_run/model_{epoch+1}.pth')\n",
    "\n",
    "\n",
    "    print(f\"Epoch {epoch+1}, Loss: {(running_loss / len(train_dataloader)):.3f}, Accuracy: {(100 * correct / total):.2f}%\")\n",
    "    scheduler.step()\n",
    "    \n",
    "    \n",
    "print(\"Training finished!\")\n"
   ]
  },
  {
   "cell_type": "code",
   "execution_count": 18,
   "id": "515586e1",
   "metadata": {},
   "outputs": [],
   "source": [
    "#torch.save(model.state_dict(), 'model/checkpoints/model_final.pth')"
   ]
  },
  {
   "cell_type": "code",
   "execution_count": 131,
   "id": "08e60b9a",
   "metadata": {},
   "outputs": [
    {
     "name": "stderr",
     "output_type": "stream",
     "text": [
      " 27%|████████████████                                           | 12/44 [00:27<01:13,  2.31s/it]"
     ]
    },
    {
     "name": "stdout",
     "output_type": "stream",
     "text": [
      "/home/emasle/code/SignLanguageMediapipe/data/train_frames/9e1073d1-5974-4150-8d22-25a297f26f32.mp4/0007.jpg\n"
     ]
    },
    {
     "name": "stderr",
     "output_type": "stream",
     "text": [
      "100%|███████████████████████████████████████████████████████████| 44/44 [01:40<00:00,  2.29s/it]\n"
     ]
    }
   ],
   "source": [
    "true_labels_list = []\n",
    "predicted_labels_list = []\n",
    "\n",
    "model.eval()\n",
    "for batch in tqdm(test_dataloader):\n",
    "    landmarks, labels = batch  \n",
    "    landmarks = landmarks.view(-1, input_size)\n",
    "    landmarks = landmarks.to('cuda')\n",
    "       \n",
    "    \n",
    "    with torch.no_grad():\n",
    "        output = model(landmarks)\n",
    "    \n",
    "    true_labels_list.extend(labels.numpy())\n",
    "    \n",
    "    predicted_labels = torch.argmax(output, dim=1)\n",
    "    predicted_labels_list.extend(predicted_labels.cpu().numpy())\n",
    "\n",
    "\n",
    "true_labels_array = np.array(true_labels_list)\n",
    "predicted_labels_array = np.array(predicted_labels_list)"
   ]
  },
  {
   "cell_type": "markdown",
   "id": "3d970443",
   "metadata": {},
   "source": [
    "***EDA***"
   ]
  },
  {
   "cell_type": "code",
   "execution_count": 142,
   "id": "9077b2bb",
   "metadata": {},
   "outputs": [
    {
     "name": "stdout",
     "output_type": "stream",
     "text": [
      "Accuracy:  0.9066\n",
      "Precision: 0.9124\n",
      "Recall:    0.9066\n",
      "F1 Score:  0.9072\n"
     ]
    }
   ],
   "source": [
    "accuracy = accuracy_score(true_labels_array, predicted_labels_array)\n",
    "\n",
    "precision = precision_score(true_labels_array, predicted_labels_array, average='weighted')\n",
    "\n",
    "recall = recall_score(true_labels_array, predicted_labels_array, average='weighted')\n",
    "\n",
    "f1 = f1_score(true_labels_array, predicted_labels_array, average='weighted')\n",
    "\n",
    "# Print the results\n",
    "print(f\"Accuracy:  {accuracy:.4f}\")\n",
    "print(f\"Precision: {precision:.4f}\")\n",
    "print(f\"Recall:    {recall:.4f}\")\n",
    "print(f\"F1 Score:  {f1:.4f}\")\n"
   ]
  },
  {
   "cell_type": "code",
   "execution_count": 132,
   "id": "3a185c8a",
   "metadata": {},
   "outputs": [
    {
     "data": {
      "image/png": "[encoded data removed]",
      "text/plain": [
       "<Figure size 1000x800 with 2 Axes>"
      ]
     },
     "metadata": {},
     "output_type": "display_data"
    }
   ],
   "source": [
    "# Generate confusion matrix\n",
    "conf_matrix = confusion_matrix(true_labels_array, predicted_labels_array)\n",
    "\n",
    "# Plot confusion matrix\n",
    "plt.figure(figsize=(10, 8))\n",
    "sns.heatmap(conf_matrix, annot=True, fmt=\"d\", cmap=\"Blues\")\n",
    "plt.xlabel(\"Predicted Label\")\n",
    "plt.ylabel(\"True Label\")\n",
    "plt.title(\"Confusion Matrix\")\n",
    "plt.show()"
   ]
  },
  {
   "cell_type": "code",
   "execution_count": 77,
   "id": "58975fc1",
   "metadata": {},
   "outputs": [],
   "source": [
    "text_distribution = train_pd['text'].value_counts()"
   ]
  },
  {
   "cell_type": "code",
   "execution_count": 78,
   "id": "6c04c304",
   "metadata": {},
   "outputs": [
    {
     "data": {
      "image/png": "[encoded data removed]",
      "text/plain": [
       "<Figure size 1000x600 with 1 Axes>"
      ]
     },
     "metadata": {},
     "output_type": "display_data"
    }
   ],
   "source": [
    "text_distribution.plot(kind='bar', figsize=(10, 6), title='Distribution of Unique Text Values')\n",
    "plt.xlabel('Text Value')\n",
    "plt.ylabel('Count')\n",
    "plt.show()"
   ]
  },
  {
   "cell_type": "markdown",
   "id": "e2429f20",
   "metadata": {},
   "source": [
    "***DATA MINING + DATA VISUALIZING***"
   ]
  },
  {
   "cell_type": "code",
   "execution_count": 79,
   "id": "76d389ab",
   "metadata": {},
   "outputs": [],
   "source": [
    "train_pd.to_csv('./data/annotations/train_final_equaly_distributed.csv', index=False)"
   ]
  },
  {
   "cell_type": "code",
   "execution_count": 75,
   "id": "7cf87619",
   "metadata": {},
   "outputs": [
    {
     "data": {
      "text/plain": [
       "6902"
      ]
     },
     "execution_count": 75,
     "metadata": {},
     "output_type": "execute_result"
    }
   ],
   "source": [
    "texts_over_limit = text_distribution[text_distribution > 150].index\n",
    "\n",
    "# Limit the number of samples for texts with more than 150 samples to 150\n",
    "for text in texts_over_limit:\n",
    "    samples_to_keep = train_pd[train_pd['text'] == text].head(150)\n",
    "    train_pd = train_pd.drop(train_pd[train_pd['text'] == text].index)\n",
    "    train_pd = pd.concat([train_pd, samples_to_keep])\n",
    "\n",
    "len(train_pd)"
   ]
  },
  {
   "cell_type": "code",
   "execution_count": 33,
   "id": "72f8cfe1",
   "metadata": {},
   "outputs": [],
   "source": [
    "# Checking on a video\n",
    "\n",
    "folder_path = '/home/emasle/code/SignLanguageMediapipe/data/train_frames/0987f6df-f619-46ac-ae6d-ebcde2cff08b.mp4'\n",
    "\n",
    "if not os.path.isdir(folder_path):\n",
    "    print(\"Error: Folder does not exist.\")\n",
    "    exit()\n",
    "\n",
    "image_files = [os.path.join(folder_path, file) for file in os.listdir(folder_path) if file.endswith('.jpg')]\n",
    "\n",
    "image_files.sort()\n",
    "\n",
    "current_index = 0\n",
    "previous = 0\n",
    "while current_index < len(image_files):\n",
    "  \n",
    "    frame = cv2.imread(image_files[current_index])\n",
    "\n",
    "    _, result = detect_landmarks(frame)\n",
    "    \n",
    "    input_data = transform(result).view(-1, 65*2).cuda()   \n",
    "    with torch.no_grad():\n",
    "        output = model(input_data)\n",
    "         \n",
    "    if torch.max(output) > 0.5:\n",
    "        prediction = output.argmax(dim=1).item()  \n",
    "        if previous != prediction:\n",
    "            previous = prediction\n",
    "    \n",
    "    cv2.putText(frame, label_encoder.inverse_transform([previous])[0], (50, 50), cv2.FONT_HERSHEY_COMPLEX, 1, (0, 255, 0), 2, cv2.LINE_AA)       \n",
    "    # Display the processed frame with landmarks\n",
    "    cv2.imshow('Hand Landmark Detection', frame)\n",
    "\n",
    "    \n",
    "    key = cv2.waitKey(0)\n",
    "    if key & 0xFF == ord('q'):  # Exit if 'q' is pressed\n",
    "        break\n",
    "    elif key & 0xFF == ord('n'):  # Move to the next image if 'n' is pressed\n",
    "        current_index += 1\n",
    "\n",
    "cv2.destroyAllWindows()\n"
   ]
  },
  {
   "cell_type": "code",
   "execution_count": 12,
   "id": "dccd3000",
   "metadata": {},
   "outputs": [],
   "source": [
    "# Mining data from a video\n",
    "\n",
    "anot = pd.read_csv('./data/annotations/croped_anotation.csv')\n",
    "\n",
    "anot = anot.sort_values(by = 'text')\n",
    "\n",
    "anot['text'] = label_encoder.inverse_transform(anot['text'])\n",
    "\n",
    "anot['word_count'] = anot['text'].str.split().apply(len)\n",
    "\n",
    "# Drop rows where the number of words is greater than 1\n",
    "anot = anot[anot['word_count'] <= 1]\n",
    "\n",
    "# Drop the 'word_count' column (optional)\n",
    "anot.drop(columns=['word_count'], inplace=True)"
   ]
  },
  {
   "cell_type": "code",
   "execution_count": 26,
   "id": "381abb33",
   "metadata": {},
   "outputs": [
    {
     "data": {
      "text/html": [
       "<div>\n",
       "<style scoped>\n",
       "    .dataframe tbody tr th:only-of-type {\n",
       "        vertical-align: middle;\n",
       "    }\n",
       "\n",
       "    .dataframe tbody tr th {\n",
       "        vertical-align: top;\n",
       "    }\n",
       "\n",
       "    .dataframe thead th {\n",
       "        text-align: right;\n",
       "    }\n",
       "</style>\n",
       "<table border=\"1\" class=\"dataframe\">\n",
       "  <thead>\n",
       "    <tr style=\"text-align: right;\">\n",
       "      <th></th>\n",
       "      <th>attachment_id</th>\n",
       "      <th>text</th>\n",
       "      <th>user_id</th>\n",
       "      <th>height</th>\n",
       "      <th>width</th>\n",
       "      <th>length</th>\n",
       "      <th>train</th>\n",
       "    </tr>\n",
       "  </thead>\n",
       "  <tbody>\n",
       "    <tr>\n",
       "      <th>217</th>\n",
       "      <td>84561f3b-35d0-411f-9570-ab20bd0b5465</td>\n",
       "      <td>ежик</td>\n",
       "      <td>0211b488644476dd0fec656ccb9b74fc</td>\n",
       "      <td>1920</td>\n",
       "      <td>1080</td>\n",
       "      <td>62.0</td>\n",
       "      <td>True</td>\n",
       "    </tr>\n",
       "    <tr>\n",
       "      <th>3095</th>\n",
       "      <td>7e86f32c-73b3-4246-bf4d-07a604bc2138</td>\n",
       "      <td>ежик</td>\n",
       "      <td>e0ca58d03fc73a305046edcdf7ef7492</td>\n",
       "      <td>1080</td>\n",
       "      <td>1920</td>\n",
       "      <td>55.0</td>\n",
       "      <td>False</td>\n",
       "    </tr>\n",
       "    <tr>\n",
       "      <th>3026</th>\n",
       "      <td>d43fbc06-3fcf-4850-a70a-4d92e6d0d6ac</td>\n",
       "      <td>ежик</td>\n",
       "      <td>ca6b767f0cccf093ba737ae2fc4fec3d</td>\n",
       "      <td>1920</td>\n",
       "      <td>1080</td>\n",
       "      <td>43.0</td>\n",
       "      <td>False</td>\n",
       "    </tr>\n",
       "    <tr>\n",
       "      <th>91</th>\n",
       "      <td>e456fcd6-5bb3-4d97-a472-271e9c56e68b</td>\n",
       "      <td>ежик</td>\n",
       "      <td>db573f94204e56e0cf3fc2ea000e5bdc</td>\n",
       "      <td>1280</td>\n",
       "      <td>720</td>\n",
       "      <td>50.0</td>\n",
       "      <td>True</td>\n",
       "    </tr>\n",
       "    <tr>\n",
       "      <th>120</th>\n",
       "      <td>166b29f4-8bf2-4770-994a-278cdbf23c7c</td>\n",
       "      <td>ежик</td>\n",
       "      <td>0211b488644476dd0fec656ccb9b74fc</td>\n",
       "      <td>1920</td>\n",
       "      <td>1080</td>\n",
       "      <td>58.0</td>\n",
       "      <td>True</td>\n",
       "    </tr>\n",
       "    <tr>\n",
       "      <th>...</th>\n",
       "      <td>...</td>\n",
       "      <td>...</td>\n",
       "      <td>...</td>\n",
       "      <td>...</td>\n",
       "      <td>...</td>\n",
       "      <td>...</td>\n",
       "      <td>...</td>\n",
       "    </tr>\n",
       "    <tr>\n",
       "      <th>2050</th>\n",
       "      <td>b2f0f14e-c247-4e0e-9186-656589a498a4</td>\n",
       "      <td>тебе</td>\n",
       "      <td>db573f94204e56e0cf3fc2ea000e5bdc</td>\n",
       "      <td>1280</td>\n",
       "      <td>720</td>\n",
       "      <td>31.0</td>\n",
       "      <td>True</td>\n",
       "    </tr>\n",
       "    <tr>\n",
       "      <th>3613</th>\n",
       "      <td>4d6ab706-9076-4444-a3d7-bf9d1246888a</td>\n",
       "      <td>тебе</td>\n",
       "      <td>2e900e56b0b0d7fe1c3978e6391fbc91</td>\n",
       "      <td>1920</td>\n",
       "      <td>1080</td>\n",
       "      <td>40.0</td>\n",
       "      <td>False</td>\n",
       "    </tr>\n",
       "    <tr>\n",
       "      <th>1997</th>\n",
       "      <td>c4b9f411-fdb0-4efb-b69f-d4bca355faa8</td>\n",
       "      <td>тебе</td>\n",
       "      <td>0211b488644476dd0fec656ccb9b74fc</td>\n",
       "      <td>1920</td>\n",
       "      <td>1080</td>\n",
       "      <td>18.0</td>\n",
       "      <td>True</td>\n",
       "    </tr>\n",
       "    <tr>\n",
       "      <th>2135</th>\n",
       "      <td>6aeabf8c-860e-4da7-8e2c-5328ac174a01</td>\n",
       "      <td>тебе</td>\n",
       "      <td>185bd3a81d9d618518d10abebf0d17a8</td>\n",
       "      <td>1920</td>\n",
       "      <td>1080</td>\n",
       "      <td>42.0</td>\n",
       "      <td>True</td>\n",
       "    </tr>\n",
       "    <tr>\n",
       "      <th>1917</th>\n",
       "      <td>01370ff0-7b2d-4eb6-a1fa-1268e3925d66</td>\n",
       "      <td>тебе</td>\n",
       "      <td>db573f94204e56e0cf3fc2ea000e5bdc</td>\n",
       "      <td>1280</td>\n",
       "      <td>720</td>\n",
       "      <td>45.0</td>\n",
       "      <td>True</td>\n",
       "    </tr>\n",
       "  </tbody>\n",
       "</table>\n",
       "<p>360 rows × 7 columns</p>\n",
       "</div>"
      ],
      "text/plain": [
       "                             attachment_id  text  \\\n",
       "217   84561f3b-35d0-411f-9570-ab20bd0b5465  ежик   \n",
       "3095  7e86f32c-73b3-4246-bf4d-07a604bc2138  ежик   \n",
       "3026  d43fbc06-3fcf-4850-a70a-4d92e6d0d6ac  ежик   \n",
       "91    e456fcd6-5bb3-4d97-a472-271e9c56e68b  ежик   \n",
       "120   166b29f4-8bf2-4770-994a-278cdbf23c7c  ежик   \n",
       "...                                    ...   ...   \n",
       "2050  b2f0f14e-c247-4e0e-9186-656589a498a4  тебе   \n",
       "3613  4d6ab706-9076-4444-a3d7-bf9d1246888a  тебе   \n",
       "1997  c4b9f411-fdb0-4efb-b69f-d4bca355faa8  тебе   \n",
       "2135  6aeabf8c-860e-4da7-8e2c-5328ac174a01  тебе   \n",
       "1917  01370ff0-7b2d-4eb6-a1fa-1268e3925d66  тебе   \n",
       "\n",
       "                               user_id  height  width  length  train  \n",
       "217   0211b488644476dd0fec656ccb9b74fc    1920   1080    62.0   True  \n",
       "3095  e0ca58d03fc73a305046edcdf7ef7492    1080   1920    55.0  False  \n",
       "3026  ca6b767f0cccf093ba737ae2fc4fec3d    1920   1080    43.0  False  \n",
       "91    db573f94204e56e0cf3fc2ea000e5bdc    1280    720    50.0   True  \n",
       "120   0211b488644476dd0fec656ccb9b74fc    1920   1080    58.0   True  \n",
       "...                                ...     ...    ...     ...    ...  \n",
       "2050  db573f94204e56e0cf3fc2ea000e5bdc    1280    720    31.0   True  \n",
       "3613  2e900e56b0b0d7fe1c3978e6391fbc91    1920   1080    40.0  False  \n",
       "1997  0211b488644476dd0fec656ccb9b74fc    1920   1080    18.0   True  \n",
       "2135  185bd3a81d9d618518d10abebf0d17a8    1920   1080    42.0   True  \n",
       "1917  db573f94204e56e0cf3fc2ea000e5bdc    1280    720    45.0   True  \n",
       "\n",
       "[360 rows x 7 columns]"
      ]
     },
     "execution_count": 26,
     "metadata": {},
     "output_type": "execute_result"
    }
   ],
   "source": [
    "anot"
   ]
  },
  {
   "cell_type": "code",
   "execution_count": 29,
   "id": "2f64cc8c",
   "metadata": {},
   "outputs": [
    {
     "name": "stdout",
     "output_type": "stream",
     "text": [
      "ежик\n",
      "жевать\n",
      "испуг\n",
      "курица\n",
      "лось\n",
      "мальчик\n",
      "мудрый\n",
      "мышь\n",
      "необходимый\n",
      "ночь\n",
      "овца\n",
      "официант\n",
      "ошеломить\n",
      "панда\n",
      "петух\n",
      "собака\n",
      "старый\n",
      "тебе\n"
     ]
    }
   ],
   "source": [
    "stop = False\n",
    "train_pd = pd.DataFrame(columns=['attachment_id', 'text'])\n",
    "root = '/home/emasle/code/SignLanguageMediapipe/data/train_frames/'\n",
    "previous_target = ''\n",
    "for pth, target in anot[['attachment_id','text']].values:\n",
    "    if target != previous_target:\n",
    "        train_pd.to_csv('train_pd.csv', index=False)\n",
    "        print(target)\n",
    "        previous_target = target\n",
    "    folder_path = os.path.join(root, (pth+'.mp4'))\n",
    "    if not os.path.exists(folder_path):\n",
    "        continue\n",
    "    image_files = [os.path.join(folder_path, file) for file in os.listdir(folder_path) if file.endswith('.jpg')]\n",
    "\n",
    "    # Sort the image files\n",
    "    image_files.sort()\n",
    "\n",
    "    # Initialize a counter to keep track of the current image index\n",
    "    current_index = 0\n",
    "    if stop:\n",
    "        break\n",
    "    while current_index < len(image_files):\n",
    "\n",
    "        frame = cv2.imread(image_files[current_index])\n",
    "        frame = cv2.resize(frame, (512,512))\n",
    "        frame, result = detect_landmarks(frame)\n",
    "\n",
    "        # Display the processed frame with landmarks\n",
    "        cv2.putText(frame, target, (50, 50), cv2.FONT_HERSHEY_COMPLEX, 1, (0, 255, 0), 2, cv2.LINE_AA)\n",
    "\n",
    "        cv2.imshow('Hand Landmark Detection', frame)\n",
    "\n",
    "        # Check for key press to move to the next image or exit\n",
    "        key = cv2.waitKey(0)\n",
    "        if key & 0xFF == ord('y'):\n",
    "            new_row = {'attachment_id': image_files[current_index], 'text': target}\n",
    "            train_pd = train_pd._append(new_row, ignore_index=True)\n",
    "            current_index += 1\n",
    "        if key & 0xFF == ord('q'):  # Exit if 'q' is pressed\n",
    "            stop = True\n",
    "            break\n",
    "        elif key & 0xFF == ord('n'):  # Move to the next image if 'n' is pressed\n",
    "            current_index += 1\n",
    "        elif key & 0xFF == ord('b'):  # Move to the one image back if 'b' is pressed\n",
    "            if current_index > 0:\n",
    "                current_index -= 1\n",
    "        elif key & 0xFF == ord('m'):  # Move to the next 10 images if 'm' is pressed\n",
    "            current_index += 10\n",
    "\n",
    "    # Close all windows\n",
    "    cv2.destroyAllWindows()\n"
   ]
  },
  {
   "cell_type": "markdown",
   "id": "22cadf89",
   "metadata": {},
   "source": [
    "***encoding from mining***"
   ]
  },
  {
   "cell_type": "code",
   "execution_count": 37,
   "id": "06a43e4c",
   "metadata": {},
   "outputs": [],
   "source": [
    "label_encoder = LabelEncoder()"
   ]
  },
  {
   "cell_type": "code",
   "execution_count": 38,
   "id": "9f5974b4",
   "metadata": {},
   "outputs": [],
   "source": [
    "train_pd['text'] = label_encoder.fit_transform(train_pd['text'])"
   ]
  },
  {
   "cell_type": "code",
   "execution_count": 40,
   "id": "202b2270",
   "metadata": {},
   "outputs": [],
   "source": [
    "np.save('decode_final.npy', label_encoder.classes_)"
   ]
  },
  {
   "cell_type": "code",
   "execution_count": 60,
   "id": "56f891d6",
   "metadata": {},
   "outputs": [],
   "source": [
    "train_pd.to_csv('train_final_save.csv', index=False)"
   ]
  },
  {
   "cell_type": "code",
   "execution_count": 167,
   "id": "5a8d9e0b",
   "metadata": {},
   "outputs": [],
   "source": [
    "# decoding example\n",
    "train_pd['text'] = label_encoder.inverse_transform(train_pd['text'])"
   ]
  }
 ],
 "metadata": {
  "kernelspec": {
   "display_name": "Python 3 (ipykernel)",
   "language": "python",
   "name": "python3"
  },
  "language_info": {
   "codemirror_mode": {
    "name": "ipython",
    "version": 3
   },
   "file_extension": ".py",
   "mimetype": "text/x-python",
   "name": "python",
   "nbconvert_exporter": "python",
   "pygments_lexer": "ipython3",
   "version": "3.11.8"
  },
  "widgets": {
   "application/vnd.jupyter.widget-state+json": {
    "state": {},
    "version_major": 2,
    "version_minor": 0
   }
  }
 },
 "nbformat": 4,
 "nbformat_minor": 5
}
